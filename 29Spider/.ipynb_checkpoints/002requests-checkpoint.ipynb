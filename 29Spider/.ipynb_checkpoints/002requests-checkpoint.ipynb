{
 "cells": [
  {
   "cell_type": "markdown",
   "metadata": {},
   "source": [
    "### requests模块\n",
    "- 什么是requests模块：python原生一个基于网络请求的模块，模拟浏览器发起请求\n",
    "- 为什么要使用requests模块: 相对urllib \n",
    "  - 手动处理url编码 quote\n",
    "  - 手动处理post请求参数 urlencode() encocde\n",
    "  - 处理proxy和cookie的操作比较繁琐\n",
    "- 如何使用 pip install requests"
   ]
  },
  {
   "cell_type": "code",
   "execution_count": 11,
   "metadata": {},
   "outputs": [
    {
     "data": {
      "text/plain": [
       "'https://www.sogou.com/'"
      ]
     },
     "execution_count": 11,
     "metadata": {},
     "output_type": "execute_result"
    }
   ],
   "source": [
    "import requests\n",
    "\n",
    "url = 'https://www.sogou.com'\n",
    "resp = requests.get(url=url)\n",
    "\n",
    "# 获取响应中的数据值：text可以获取响应对象中字符串形式的页面数据\n",
    "# resp.text\n",
    "\n",
    "# 响应数据 bytes 的页面属性\n",
    "# resp.content\n",
    "\n",
    "# 响应状态码 int\n",
    "# resp.status_code\n",
    "\n",
    "# 响应信息头 dict\n",
    "# resp.headers\n",
    "\n",
    "# 请求url\n",
    "# resp.url\n",
    "\n"
   ]
  },
  {
   "cell_type": "code",
   "execution_count": 17,
   "metadata": {},
   "outputs": [
    {
     "data": {
      "text/plain": [
       "200"
      ]
     },
     "execution_count": 17,
     "metadata": {},
     "output_type": "execute_result"
    }
   ],
   "source": [
    "# 携带参数get请求\n",
    "import requests\n",
    "\n",
    "url = 'https://www.sogou.com/web'\n",
    "headers = {\n",
    "    \"User-Agent\": \"Mozilla/5.0 (Windows NT 10.0; WOW64) AppleWebKit/537.36 (KHTML, like Gecko) Chrome/75.0.3770.142 Safari/537.36\"\n",
    "}\n",
    "\n",
    "# 自动quote，请求头信息简洁\n",
    "resp = requests.get(url=url, params={'query': \"周杰伦\"}, headers=headers)\n",
    "resp.status_code"
   ]
  },
  {
   "cell_type": "markdown",
   "metadata": {},
   "source": [
    "### 基于requests发起post请求\n",
    "### cookies作用：服务器端使用cookie来记录客户端的状态信息\n",
    "- 执行登录操作(获取cookies)\n",
    "- 在发起个人主页请求时，需要将cookie携带到该请求中\n",
    "- 注意：session对象，发起请求(会将cookie对象进行自动存储)"
   ]
  },
  {
   "cell_type": "code",
   "execution_count": null,
   "metadata": {},
   "outputs": [],
   "source": [
    "import requests\n",
    "\n",
    "session = requests.session()\n",
    "\n",
    "# 1. 发起登录请求：将cookie获取，且存储到session对象中\n",
    "login_url = 'https://accounts.douban.com/login'\n",
    "data = {\n",
    "    'username': 'username',\n",
    "    'password': 'password'\n",
    "}\n",
    "headers = {\n",
    "    \"User-Agent\": \"Mozilla/5.0 (Windows NT 10.0; WOW64) AppleWebKit/537.36 (KHTML, like Gecko) Chrome/75.0.3770.142 Safari/537.36\"\n",
    "}\n",
    "# 2. 使用session发起post请求\n",
    "login_resp = session.post(url=login_url, data=data, headers=headers)\n",
    "# 3. 对个人主页发起请求(session中含cookie)，获取页面响应数据\n",
    "url = 'https://www.douban.com/people/123456'\n",
    "resp = session.get(url=url, headers=headers)"
   ]
  },
  {
   "cell_type": "markdown",
   "metadata": {},
   "source": [
    "### 代理操作\n",
    "   - 代理：第三方代理本体执行相关事物。生活：代购，微商，中介\n",
    "   - 为什么使用代理\n",
    "      - 反爬操作\n",
    "      - 反反爬手段\n",
    "   - 分类\n",
    "      - 正向代理：代理客户端获取数据\n",
    "      - 反向代理：代理服务器提供数据\n",
    "   - 免费代理IP的网站提供商\n",
    "      - www.goubanjia.com\n",
    "      - 快代理\n",
    "      - 西祠代理"
   ]
  },
  {
   "cell_type": "code",
   "execution_count": null,
   "metadata": {},
   "outputs": [],
   "source": []
  }
 ],
 "metadata": {
  "kernelspec": {
   "display_name": "Python 3",
   "language": "python",
   "name": "python3"
  },
  "language_info": {
   "codemirror_mode": {
    "name": "ipython",
    "version": 3
   },
   "file_extension": ".py",
   "mimetype": "text/x-python",
   "name": "python",
   "nbconvert_exporter": "python",
   "pygments_lexer": "ipython3",
   "version": "3.6.3"
  }
 },
 "nbformat": 4,
 "nbformat_minor": 2
}
